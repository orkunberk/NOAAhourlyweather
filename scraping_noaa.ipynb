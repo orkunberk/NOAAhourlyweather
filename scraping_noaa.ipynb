{
 "cells": [
  {
   "cell_type": "code",
   "execution_count": null,
   "metadata": {},
   "outputs": [],
   "source": [
    "#!/Python34/python"
   ]
  },
  {
   "cell_type": "code",
   "execution_count": 4,
   "metadata": {},
   "outputs": [],
   "source": [
    "import os\n",
    "import requests\n",
    "import time\n",
    "\n",
    "from requests.adapters import HTTPAdapter\n",
    "from requests.packages.urllib3.util.retry import Retry"
   ]
  },
  {
   "cell_type": "markdown",
   "metadata": {},
   "source": [
    "#### Lookup\n",
    "\n",
    "The city id's for Turkey is in `noaa_lookup.txt` file"
   ]
  },
  {
   "cell_type": "code",
   "execution_count": 5,
   "metadata": {},
   "outputs": [],
   "source": [
    "with open('noaa_lookup.txt', 'r') as file:\n",
    "    num_list = [str(line) for line in file]"
   ]
  },
  {
   "cell_type": "code",
   "execution_count": 6,
   "metadata": {},
   "outputs": [],
   "source": [
    "YEAR = '2018/'"
   ]
  },
  {
   "cell_type": "code",
   "execution_count": 9,
   "metadata": {},
   "outputs": [],
   "source": [
    "# construct Turkey's id as a list\n",
    "\n",
    "id_turkey = []\n",
    "\n",
    "for idx, line in enumerate(num_list):\n",
    "    if idx in (0,1):\n",
    "        continue\n",
    "    else:\n",
    "        id_turkey.append(line.split()[0]+line.split()[1]);"
   ]
  },
  {
   "cell_type": "markdown",
   "metadata": {},
   "source": [
    "### Scraping \n",
    "\n",
    "Scraping the hourly weather for each city of Turkey and printing the number of cities remaining as output"
   ]
  },
  {
   "cell_type": "code",
   "execution_count": null,
   "metadata": {},
   "outputs": [],
   "source": [
    "base_url = 'https://www.ncei.noaa.gov/data/global-hourly/access/' + YEAR\n",
    "\n",
    "for ix, id in enumerate(id_turkey):\n",
    "    file_name = id + '.csv'\n",
    "    url = base_url + file_name\n",
    "    print('Number of cities remaining:', len(id_turkey) - (ix+1))\n",
    "    \n",
    "    session = requests.Session()\n",
    "    retry = Retry(connect=3, backoff_factor=0.5)\n",
    "    adapter = HTTPAdapter(max_retries=retry)\n",
    "    session.mount('http://', adapter)\n",
    "    session.mount('https://', adapter)\n",
    "\n",
    "    r = session.get(url)\n",
    "\n",
    "    with open(file_name, \"wb\") as text_file:\n",
    "        text_file.write(r.content)"
   ]
  }
 ],
 "metadata": {
  "kernelspec": {
   "display_name": "Python 3",
   "language": "python",
   "name": "python3"
  },
  "language_info": {
   "codemirror_mode": {
    "name": "ipython",
    "version": 3
   },
   "file_extension": ".py",
   "mimetype": "text/x-python",
   "name": "python",
   "nbconvert_exporter": "python",
   "pygments_lexer": "ipython3",
   "version": "3.6.9"
  }
 },
 "nbformat": 4,
 "nbformat_minor": 4
}
