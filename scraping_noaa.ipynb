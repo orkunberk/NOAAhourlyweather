{
 "cells": [
  {
   "cell_type": "code",
   "execution_count": null,
   "metadata": {},
   "outputs": [],
   "source": [
    "#Authors:\n",
    "#   v1\n",
    "#   Orkun Berk Yuzbasioglu, orkunberk@hotmail.com\n",
    "#   Okan Yurt,  okanyurt@hotmail.com\n",
    "#   5.03.2022\n",
    "#   Getting hourly past weather data for Turkish cities\n",
    "#   Input: STARTYEAR - ENDYEAR\n",
    "\n",
    "import os\n",
    "import requests\n",
    "import csv\n",
    "\n",
    "from datetime import datetime\n",
    "from requests.adapters import HTTPAdapter\n",
    "from urllib3.util import Retry\n",
    "from urllib.parse import urljoin"
   ]
  },
  {
   "cell_type": "code",
   "execution_count": null,
   "metadata": {},
   "outputs": [],
   "source": [
    "CURRENT_YEAR = datetime.now().year\n",
    "YEARS = input('Tarih aralıklarını giriniz (örn: 2016 - 2020)')\n",
    "BEGINNING_YEAR = int(YEARS.split('-')[0].strip())\n",
    "ENDING_YEAR = min(int(YEARS.split('-')[1].strip()), CURRENT_YEAR)\n",
    "BASE_URL = 'https://www.ncei.noaa.gov/data/global-hourly/access/'\n",
    "IS_VERBOSE = int(input('Işlem Detayı Terminale Basılsın mı? (0/1)'))\n",
    "SAVE_PATH = './data'\n",
    "\n",
    "# creating directory for results\n",
    "try:\n",
    "        os.mkdir('data')\n",
    "except FileExistsError:\n",
    "        pass\n",
    "\n",
    "# read city id's for Turkey from turkey_cities.csv file\n",
    "with open('turkey_cities.csv', 'r') as file:\n",
    "    reader = csv.reader(file, delimiter=',')\n",
    "    next(reader, None)  # skip the headers\n",
    "    data_read = [row for row in reader]\n",
    "\n",
    "# construct Turkey's cities as a list\n",
    "cities_turkey = []\n",
    "\n",
    "for row  in data_read:\n",
    "        cities_turkey.append(row[1].strip())\n",
    "\n",
    "# construct Turkey's id as a list\n",
    "ids_turkey = []\n",
    "\n",
    "for row  in data_read:\n",
    "        ids_turkey.append(row[0].strip())"
   ]
  },
  {
   "cell_type": "code",
   "execution_count": null,
   "metadata": {},
   "outputs": [],
   "source": [
    "# Scraping the hourly weather for each city of Turkey and printing the number of cities remaining as output\n",
    "\n",
    "for year in range(BEGINNING_YEAR, ENDING_YEAR+1):\n",
    "\n",
    "    for ix, id in enumerate(ids_turkey):\n",
    "\n",
    "        file_name = id + '_' + str(year) + '.csv'\n",
    "        \n",
    "        completeName = '/'.join([SAVE_PATH, file_name])\n",
    "        \n",
    "        url = urljoin(BASE_URL, str(year)) + '/' + id + '.csv'\n",
    "\n",
    "        if IS_VERBOSE:\n",
    "            print('Number of cities remaining {} for year {}:'.format(len(ids_turkey) - (ix+1), year))\n",
    "\n",
    "        session = requests.Session()\n",
    "        retry = Retry(connect=3, backoff_factor=0.5)\n",
    "        adapter = HTTPAdapter(max_retries=retry)\n",
    "        session.mount('http://', adapter)\n",
    "        session.mount('https://', adapter)\n",
    "\n",
    "        response = session.get(url)\n",
    "\n",
    "        try:\n",
    "            response.raise_for_status()\n",
    "        except requests.exceptions.HTTPError as e:\n",
    "            pass\n",
    "        else:\n",
    "            with open(completeName, \"wb\") as text_file:\n",
    "                text_file.write(response.content)"
   ]
  }
 ],
 "metadata": {
  "kernelspec": {
   "display_name": "Python 3",
   "language": "python",
   "name": "python3"
  },
  "language_info": {
   "codemirror_mode": {
    "name": "ipython",
    "version": 3
   },
   "file_extension": ".py",
   "mimetype": "text/x-python",
   "name": "python",
   "nbconvert_exporter": "python",
   "pygments_lexer": "ipython3",
   "version": "3.8.10"
  }
 },
 "nbformat": 4,
 "nbformat_minor": 4
}
